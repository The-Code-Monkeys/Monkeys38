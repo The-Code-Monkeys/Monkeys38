{
 "cells": [
  {
   "cell_type": "markdown",
   "metadata": {},
   "source": [
    "---\n",
    "layout: post\n",
    "title: U3 Boolean and If statements \n",
    "description: Lesson on boolean expressions and if statements!\n",
    "courses: { csa: {week: 1} }\n",
    "type: hacks\n",
    "---"
   ]
  },
  {
   "cell_type": "markdown",
   "metadata": {},
   "source": [
    "# APCSA Unit 3 College Board Learning Objectives and Standards\n",
    "\n",
    "## Learning Objectives\n",
    "\n",
    "The objective of today's lesson is to...\n",
    "\n",
    "- Evaluate Boolean expressions that use relational operators in program code\n",
    "\n",
    "## Essential Knowledge\n",
    "\n",
    "College Board wants you to know that...\n",
    "\n",
    "- Primitive values and reference values can be compared using relational operators (i.e., == and !=)\n",
    "- Arithmetic expression values can be compared using relational operators (such as <, >, <=, >=)\n",
    "- An expression involving relational operators evaluates to a Boolean value"
   ]
  },
  {
   "cell_type": "markdown",
   "metadata": {},
   "source": [
    "## Recap on Booleans\n",
    "\n",
    "A boolean is a type of variable that can evaluate to true or false."
   ]
  },
  {
   "cell_type": "code",
   "execution_count": null,
   "metadata": {
    "vscode": {
     "languageId": "java"
    }
   },
   "outputs": [],
   "source": [
    "public class Example {\n",
    "\n",
    "    private static boolean isAdult = false;\n",
    "    private static int myAge = 16;\n",
    "\n",
    "    public static boolean main(String [] args){\n",
    "\n",
    "        if(myAge >= 18){\n",
    "            System.out.println(\"You are an adult!\");\n",
    "            isAdult = true;\n",
    "        } else {\n",
    "            System.out.println(\"You are not an adult!\");\n",
    "        }  \n",
    "\n",
    "        return isAdult;\n",
    "    }\n",
    "}\n",
    "\n",
    "Example.main(null);"
   ]
  },
  {
   "cell_type": "markdown",
   "metadata": {},
   "source": [
    "## Comparison Operators\n",
    "\n",
    "Whenever you want to make a boolean statement (such as setting a boolean to be true or false), you want to use the \"=\" or \"!=\" sign and not the \"==\" sign.\n",
    "\n",
    "On the other hand, if you are ever trying to compare String objects, use the String methods such as .equal or .compareTo, NOT the Boolean expressions mentioned above. "
   ]
  },
  {
   "cell_type": "markdown",
   "metadata": {},
   "source": [
    "## Challenge!\n",
    "\n",
    "Identify the issue(s) in the code below (if any). Then, make the necessary corrections to ensure that the program runs as intended."
   ]
  },
  {
   "cell_type": "code",
   "execution_count": 23,
   "metadata": {
    "vscode": {
     "languageId": "java"
    }
   },
   "outputs": [
    {
     "name": "stdout",
     "output_type": "stream",
     "text": [
      "Guess my name!\n"
     ]
    },
    {
     "name": "stdout",
     "output_type": "stream",
     "text": [
      "Your guess: John\n",
      "Wrong! L Cope\n"
     ]
    },
    {
     "data": {
      "text/plain": [
       "false"
      ]
     },
     "execution_count": 23,
     "metadata": {},
     "output_type": "execute_result"
    }
   ],
   "source": [
    "public class Challenge {\n",
    "\n",
    "    private static boolean isName = false;\n",
    "    private static String name = new String(\"John\");\n",
    "\n",
    "\n",
    "    public static boolean main(){\n",
    "\n",
    "        Scanner sc = new Scanner(System.in);\n",
    "\n",
    "        System.out.println(\"Guess my name!\");\n",
    "\n",
    "        String guess = sc.nextLine();\n",
    "        System.out.println(\"Your guess: \"+guess);\n",
    "\n",
    "    \n",
    "        if(guess == name){ \n",
    "            isName = true;\n",
    "        } else {\n",
    "            System.out.println(\"Wrong! L Cope\");\n",
    "        }\n",
    "\n",
    "        return isName;\n",
    "\n",
    "    }\n",
    "}\n",
    "\n",
    "Challenge.main();"
   ]
  },
  {
   "cell_type": "markdown",
   "metadata": {},
   "source": [
    "# Your Homework\n",
    "\n",
    "Now that you know what boolean expressions are and how to write them, your task is to now write a method for a leap year checker. \n",
    "\n",
    "Here is how the method should work: \n",
    "\n",
    "(1) Prompt the user to input any year that they would like\n",
    "(2) Determine if the year is a leap year or not\n",
    "(3) Print the necessary dialogue (ex. [year] is/is not a leap year) AND return the value of any boolean(s) used"
   ]
  },
  {
   "cell_type": "code",
   "execution_count": null,
   "metadata": {
    "vscode": {
     "languageId": "java"
    }
   },
   "outputs": [],
   "source": []
  }
 ],
 "metadata": {
  "kernelspec": {
   "display_name": "Java",
   "language": "java",
   "name": "java"
  },
  "language_info": {
   "codemirror_mode": "java",
   "file_extension": ".jshell",
   "mimetype": "text/x-java-source",
   "name": "Java",
   "pygments_lexer": "java",
   "version": "11.0.20+8-post-Ubuntu-1ubuntu122.04"
  },
  "orig_nbformat": 4
 },
 "nbformat": 4,
 "nbformat_minor": 2
}
