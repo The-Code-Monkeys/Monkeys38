{
 "cells": [
  {
   "cell_type": "markdown",
   "metadata": {},
   "source": [
    "---\n",
    "layout: post\n",
    "title: U3 Boolean and If statements \n",
    "description: Lesson on boolean expressions and if statements!\n",
    "courses: { csa: {week: 1} }\n",
    "type: lessons\n",
    "---"
   ]
  },
  {
   "cell_type": "markdown",
   "metadata": {},
   "source": [
    "# APCSA Unit 3 College Board Learning Objectives and Standards\n",
    "\n",
    "## Learning Objectives\n",
    "\n",
    "The objective of today's lesson is to...\n",
    "\n",
    "- Evaluate Boolean expressions that use relational operators in program code\n",
    "\n",
    "## Essential Knowledge\n",
    "\n",
    "College Board wants you to know that...\n",
    "\n",
    "- Primitive values and reference values can be compared using relational operators (i.e., == and !=)\n",
    "- Arithmetic expression values can be compared using relational operators (such as <, >, <=, >=)\n",
    "- An expression involving relational operators evaluates to a Boolean value"
   ]
  },
  {
   "cell_type": "markdown",
   "metadata": {},
   "source": [
    "## Warm Up\n",
    "\n",
    "Answer the following questions as a group or individually. Write down your answers in your hacks notebook.\n",
    "\n",
    "- What is a boolean?\n",
    "- What values can a boolean represent? How many?\n",
    "- What is an example of when we'd use a boolean?"
   ]
  },
  {
   "cell_type": "markdown",
   "metadata": {},
   "source": [
    "## Recap on Booleans\n",
    "\n",
    "A boolean is a type of variable that can evaluate to true or false. In Java, there are various comparison operators that can be used in order to compare two values. **What are some**?\n",
    "\n",
    "The format is `val1 <oper> val2`, and will return a boolean given the state of the system. "
   ]
  },
  {
   "cell_type": "code",
   "execution_count": 2,
   "metadata": {},
   "outputs": [
    {
     "name": "stdout",
     "output_type": "stream",
     "text": [
      "You are not an adult!\n",
      "false\n"
     ]
    }
   ],
   "source": [
    "public class Example {\n",
    "\n",
    "    private static boolean isAdult = false;\n",
    "    private static int myAge = 16;\n",
    "\n",
    "    public static void main(String [] args){\n",
    "\n",
    "        if(myAge >= 18){\n",
    "            System.out.println(\"You are an adult!\");\n",
    "            isAdult = true;\n",
    "        } else {\n",
    "            System.out.println(\"You are not an adult!\");\n",
    "        }  \n",
    "\n",
    "        System.out.println(isAdult);\n",
    "    }\n",
    "}\n",
    "\n",
    "Example.main(null);"
   ]
  },
  {
   "cell_type": "markdown",
   "metadata": {},
   "source": [
    "## Comparison Operators\n",
    "\n",
    "Whenever you want to make a boolean statement (such as setting a boolean to be true or false), you want to use the `\"=\"` or `\"!=\"` sign and not the `\"==\"` sign.\n",
    "\n",
    "On the other hand, if you are ever trying to compare String objects, use the String methods such as `.equals` or `.compareTo`, NOT the Boolean expressions mentioned above. "
   ]
  },
  {
   "cell_type": "markdown",
   "metadata": {},
   "source": [
    "### Setup Class\n",
    "\n",
    "**Note the utilization of the `compareTo` in a custom class in order to compare two classes**"
   ]
  },
  {
   "cell_type": "code",
   "execution_count": 14,
   "metadata": {},
   "outputs": [],
   "source": [
    "public class ComparisonExample implements Comparable<ComparisonExample> {\n",
    "    private int comp;\n",
    "\n",
    "    public ComparisonExample(int _comp) {\n",
    "        this.comp = _comp;\n",
    "    }\n",
    "\n",
    "    @Override\n",
    "    public int compareTo(ComparisonExample s) {\n",
    "        // Use the compareTo method of Integer to compare integers\n",
    "        return Integer.compare(this.comp, s.comp);\n",
    "    }\n",
    "}"
   ]
  },
  {
   "cell_type": "markdown",
   "metadata": {},
   "source": [
    "### Comparing using compareTo"
   ]
  },
  {
   "cell_type": "code",
   "execution_count": 16,
   "metadata": {},
   "outputs": [
    {
     "name": "stdout",
     "output_type": "stream",
     "text": [
      "-1\n"
     ]
    }
   ],
   "source": [
    "ComparisonExample c = new ComparisonExample(2);\n",
    "ComparisonExample v = new ComparisonExample(3);\n",
    "System.out.println(c.compareTo(v)); // Allows comparison of these two instances of a class\n"
   ]
  },
  {
   "cell_type": "markdown",
   "metadata": {},
   "source": [
    "### Comparing using .equals"
   ]
  },
  {
   "cell_type": "code",
   "execution_count": 17,
   "metadata": {},
   "outputs": [
    {
     "name": "stdout",
     "output_type": "stream",
     "text": [
      "true\n",
      "false\n"
     ]
    }
   ],
   "source": [
    "System.out.println(\"hello\".equals(\"hello\")); // returns true, because it is absolutely the same\n",
    "System.out.println(\"Hello\".equals(\"hello\")); // Does not match case\n",
    " "
   ]
  },
  {
   "cell_type": "markdown",
   "metadata": {},
   "source": [
    "### Comparing two arrays"
   ]
  },
  {
   "cell_type": "code",
   "execution_count": 25,
   "metadata": {},
   "outputs": [
    {
     "name": "stdout",
     "output_type": "stream",
     "text": [
      "Same\n"
     ]
    }
   ],
   "source": [
    "  // Declaring integer arrays\n",
    "  int arr1[] = { 1, 2, 3 };\n",
    "  int arr2[] = { 1, 2, 3 };\n",
    "\n",
    "  // Checking if above two arrays are equal\n",
    "  // using equals() method\n",
    "  if (Arrays.equals(arr1, arr2))\n",
    "\n",
    "      // Print statement if arrays are equal\n",
    "      System.out.println(\"Same\");\n",
    "  else\n",
    "\n",
    "      // Print statement if arrays are equal\n",
    "      System.out.println(\"Not same\");\n",
    "\n",
    "\n",
    "// This is not deep equality. You can search up deep equality using our favorite friend: Mr.Chat GPT"
   ]
  },
  {
   "cell_type": "markdown",
   "metadata": {},
   "source": [
    "## Challenge!\n",
    "\n",
    "Identify the issue(s) in the code below (hint: try running it yourself). Then, make the necessary corrections to ensure that the program runs as intended."
   ]
  },
  {
   "cell_type": "code",
   "execution_count": 3,
   "metadata": {},
   "outputs": [
    {
     "name": "stdout",
     "output_type": "stream",
     "text": [
      "Guess my name!\n",
      "Your guess: John\n",
      "Wrong! L Cope\n",
      "false\n"
     ]
    }
   ],
   "source": [
    "public class Challenge {\n",
    "\n",
    "    private static boolean isName = false;\n",
    "    private static String name = new String(\"John\");\n",
    "\n",
    "\n",
    "    public static void main(String [] args){\n",
    "\n",
    "        Scanner sc = new Scanner(System.in);\n",
    "\n",
    "        System.out.println(\"Guess my name!\");\n",
    "\n",
    "        String guess = sc.nextLine();\n",
    "        System.out.println(\"Your guess: \"+guess);\n",
    "\n",
    "    \n",
    "        if(guess == name){ \n",
    "            isName = true;\n",
    "        } else {\n",
    "            System.out.println(\"Wrong! L Cope\");\n",
    "        }\n",
    "\n",
    "        System.out.println(isName);\n",
    "\n",
    "    }\n",
    "}\n",
    "\n",
    "Challenge.main(null);"
   ]
  },
  {
   "cell_type": "markdown",
   "metadata": {},
   "source": [
    "# Your Homework\n",
    "\n",
    "Now that you know what boolean expressions are and how to write them, your task is to now write a method for a leap year checker. \n",
    "\n",
    "Here is how the method should work: \n",
    "\n",
    "(1) Prompt the user to input any year that they would like <br>\n",
    "(2) Determine if the year is a leap year or not <br>\n",
    "(3) Print the necessary dialogue (ex. [year] is/is not a leap year) AND return the value of any boolean(s) used\n",
    "\n",
    "<br>\n",
    "Part 2: \n",
    "\n",
    "- There are a lot of other blogs on this blog! Select one and take notes on it. If you'd want a bit of extra, do the hacks as well!"
   ]
  }
 ],
 "metadata": {
  "kernelspec": {
   "display_name": "Java",
   "language": "java",
   "name": "java"
  },
  "language_info": {
   "codemirror_mode": "java",
   "file_extension": ".jshell",
   "mimetype": "text/x-java-source",
   "name": "java",
   "pygments_lexer": "java",
   "version": "20.0.2+9-78"
  },
  "orig_nbformat": 4
 },
 "nbformat": 4,
 "nbformat_minor": 2
}
