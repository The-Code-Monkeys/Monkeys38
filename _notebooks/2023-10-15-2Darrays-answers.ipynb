{
 "cells": [
  {
   "cell_type": "markdown",
   "metadata": {},
   "source": [
    "---\n",
    "layout: post\n",
    "title: Answers for 2D Arrays\n",
    "description: Answers for 2D Array Lesson\n",
    "courses: { csa: {week: 1} }\n",
    "type: lessons\n",
    "toc: true\n",
    "comments: true\n",
    "---"
   ]
  },
  {
   "cell_type": "markdown",
   "metadata": {},
   "source": [
    "### Popcorn Hack 1"
   ]
  },
  {
   "cell_type": "code",
   "execution_count": null,
   "metadata": {
    "vscode": {
     "languageId": "java"
    }
   },
   "outputs": [],
   "source": [
    "import java.util.Random;\n",
    "\n",
    "public class Random2DArray {\n",
    "    public static void main(String[] args) {\n",
    "        int numRows = 4; // Change this to the desired number of rows\n",
    "        int numCols = 4; // Change this to the desired number of columns\n",
    "        int[][] randomArray = new int[numRows][numCols];\n",
    "\n",
    "        Random random = new Random();\n",
    "\n",
    "        for (int i = 0; i < numRows; i++) {\n",
    "            for (int j = 0; j < numCols; j++) {\n",
    "                randomArray[i][j] = random.nextInt(100); // Generates random integers between 0 and 99\n",
    "            }\n",
    "        }\n",
    "\n",
    "        // Print the random 2D array\n",
    "        for (int i = 0; i < numRows; i++) {\n",
    "            for (int j = 0; j < numCols; j++) {\n",
    "                System.out.print(randomArray[i][j] + \" \");\n",
    "            }\n",
    "            System.out.println(); // Move to the next row\n",
    "        }\n",
    "    }\n",
    "}\n"
   ]
  },
  {
   "cell_type": "markdown",
   "metadata": {},
   "source": [
    "### Popcorn Hack 2"
   ]
  },
  {
   "cell_type": "code",
   "execution_count": 1,
   "metadata": {
    "vscode": {
     "languageId": "java"
    }
   },
   "outputs": [
    {
     "name": "stdout",
     "output_type": "stream",
     "text": [
      "12"
     ]
    }
   ],
   "source": [
    "public class Main {\n",
    "    public static void main(String[] args) {\n",
    "        int[][] myArray = {\n",
    "            {1, 2, 3},\n",
    "            {4, 5, 6},\n",
    "            {7, 8, 9}\n",
    "        };\n",
    "        int desiredVal = 12;\n",
    "        myArray[2][2] = 12;\n",
    "        System.out.print(myArray[2][2]);\n",
    "    }\n",
    "}\n",
    "\n",
    "Main.main(null)"
   ]
  },
  {
   "cell_type": "markdown",
   "metadata": {},
   "source": [
    "### Popcorn Hack 3\n"
   ]
  },
  {
   "cell_type": "code",
   "execution_count": 8,
   "metadata": {
    "vscode": {
     "languageId": "java"
    }
   },
   "outputs": [
    {
     "name": "stdout",
     "output_type": "stream",
     "text": [
      "\n",
      "14 21 \n",
      "28 70 \n"
     ]
    }
   ],
   "source": [
    "public class Main {\n",
    "    public static void main(String[] args) {\n",
    "        int[][] myArray = {\n",
    "            {1, 2, 11},\n",
    "            {14, 5, 21},\n",
    "            {25, 28, 70}\n",
    "        };\n",
    "\n",
    "        for (int i = 0; i < myArray.length; i++) { // Loop through the rows\n",
    "            for (int j = 0; j < myArray[i].length; j++) { // Loop through the columns\n",
    "                int x = myArray[i][j];\n",
    "                if(x %7 == 0){\n",
    "                    System.out.print(myArray[i][j] + \" \"); // Print out the element\n",
    "                }\n",
    "            }\n",
    "            System.out.println(); // Print a new line\n",
    "        }\n",
    "        \n",
    "    }\n",
    "}\n",
    "\n",
    "Main.main(null)"
   ]
  }
 ],
 "metadata": {
  "kernelspec": {
   "display_name": "Java",
   "language": "java",
   "name": "java"
  },
  "language_info": {
   "codemirror_mode": "java",
   "file_extension": ".jshell",
   "mimetype": "text/x-java-source",
   "name": "Java",
   "pygments_lexer": "java",
   "version": "17.0.8.1+1-Ubuntu-0ubuntu120.04"
  },
  "orig_nbformat": 4
 },
 "nbformat": 4,
 "nbformat_minor": 2
}
