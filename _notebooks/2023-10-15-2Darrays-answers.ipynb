{
 "cells": [
  {
   "cell_type": "markdown",
   "metadata": {},
   "source": [
    "---\n",
    "layout: post\n",
    "title: Answers for 2D Arrays\n",
    "description: Answers for 2D Array Lesson\n",
    "courses: { csa: {week: 1} }\n",
    "type: lessons\n",
    "toc: true\n",
    "comments: true\n",
    "---"
   ]
  }
 ],
 "metadata": {
  "language_info": {
   "name": "python"
  },
  "orig_nbformat": 4
 },
 "nbformat": 4,
 "nbformat_minor": 2
}
