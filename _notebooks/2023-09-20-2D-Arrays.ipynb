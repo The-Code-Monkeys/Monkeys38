{
 "cells": [
  {
   "cell_type": "markdown",
   "metadata": {},
   "source": [
    "---\n",
    "layout: post\n",
    "title: 2D Arrays\n",
    "description: Lesson on 2D Arrays\n",
    "courses: { csa: {week: 1} }\n",
    "type: lessons\n",
    "toc: true\n",
    "comments: true\n",
    "---"
   ]
  },
  {
   "cell_type": "markdown",
   "metadata": {},
   "source": [
    "# APCSA Unit 3 College Board Learning Objectives and Standards\n",
    "\n",
    "## Learning Objectives\n",
    "\n",
    "The objective of today's lesson is to...\n",
    "\n",
    "- Learn about 2D arrays, their use cases, and how to create them.\n",
    "\n",
    "## Essential Knowledge\n",
    "\n",
    "College Board wants you to know...\n",
    "\n",
    "- How to declare/initialize 2D arrays.\n",
    "- How to determine their size.\n",
    "- How to access and update the values of a 2D array.\n",
    "- How to traverse/access elements of a 2D array using nested iteration statements. \n",
    "- How nested iteration statements can be used to traverse 2D arrays in “row-major order” vs “column-major order.”\n",
    "- How to create algorithms that require the use of 2D array traversals."
   ]
  },
  {
   "cell_type": "markdown",
   "metadata": {},
   "source": [
    "## Warm Up\n",
    "\n",
    "Answer the following questions as a group or individually. Write down your answers in your hacks notebook.\n",
    "\n",
    "- What are 2D arrays?\n",
    "- How are 2D arrays organized?\n",
    "- What are some real-world examples of 2D arrays?\n"
   ]
  },
  {
   "cell_type": "markdown",
   "metadata": {},
   "source": [
    "## The Basics/Recap\n",
    "\n",
    "2D arrays, and higher dimension arrays overall, can be thought of as just an array that's made up of other arrays or an array of arrays. One way of looking at 2D arrays is by thinking of them as a chess board. They have rows and columns, and every element is identified via row or column number or index.\n",
    "\n",
    "Below is an illustration of a 2D array:\n",
    "![2D Array Image](https://raw.githubusercontent.com/The-Code-Monkeys/Monkeys38/main/images/2dArray.png)\n",
    "\n"
   ]
  },
  {
   "cell_type": "markdown",
   "metadata": {},
   "source": [
    "## 1) How to declare/initialize 2D arrays\n",
    "\n",
    "Initializing 2D arrays can be done in multiple different ways. Note: In Java whenever we declare an array we must specify the datatype of the elements in the array. The most common include:"
   ]
  },
  {
   "cell_type": "markdown",
   "metadata": {},
   "source": [
    "1) Initializing and populating the array in one go:"
   ]
  },
  {
   "cell_type": "code",
   "execution_count": 8,
   "metadata": {
    "vscode": {
     "languageId": "java"
    }
   },
   "outputs": [
    {
     "name": "stdout",
     "output_type": "stream",
     "text": [
      "1 2 3 \n",
      "4 5 6 \n",
      "7 8 9 \n"
     ]
    }
   ],
   "source": [
    "public class Main {\n",
    "    public static void main(String[] args) {\n",
    "        int[][] Array1 = { // 2d Array of integers\n",
    "            {1, 2, 3},\n",
    "            {4, 5, 6},\n",
    "            {7, 8, 9}\n",
    "        };\n",
    "\n",
    "        for (int i = 0; i < Array1.length; i++) { // Loop through the rows\n",
    "            for (int j = 0; j < Array1[i].length; j++) { // Loop through the columns\n",
    "                System.out.print(Array1[i][j] + \" \"); // Print out the element\n",
    "            }\n",
    "            System.out.println(); // Print a new line\n",
    "        }\n",
    "    }\n",
    "}\n",
    "\n",
    "Main.main(null)"
   ]
  },
  {
   "cell_type": "code",
   "execution_count": 9,
   "metadata": {
    "vscode": {
     "languageId": "java"
    }
   },
   "outputs": [
    {
     "name": "stdout",
     "output_type": "stream",
     "text": [
      "one two three \n",
      "four five six \n",
      "seven eight nine \n"
     ]
    }
   ],
   "source": [
    "public class Main {\n",
    "    public static void main(String[] args){\n",
    "    String[][] Array2 = { // 2d Array of strings\n",
    "        {\"one\", \"two\", \"three\"},\n",
    "        {\"four\", \"five\", \"six\"},\n",
    "        {\"seven\", \"eight\", \"nine\"}\n",
    "    };\n",
    "    \n",
    "    for (int i = 0; i < Array2.length; i++) { // Loop through the rows\n",
    "        for (int j = 0; j < Array2[i].length; j++) { // Loop through the columns\n",
    "            System.out.print(Array2[i][j] + \" \"); // Print out the element\n",
    "        }\n",
    "            System.out.println(); // Print a new line\n",
    "        }\n",
    "    }\n",
    "}\n",
    "\n",
    "Main.main(null)\n"
   ]
  },
  {
   "cell_type": "code",
   "execution_count": 10,
   "metadata": {
    "vscode": {
     "languageId": "java"
    }
   },
   "outputs": [
    {
     "name": "stdout",
     "output_type": "stream",
     "text": [
      "1 two 3.0 \n",
      "4 five 6.0 \n",
      "7 eight 9.0 \n"
     ]
    }
   ],
   "source": [
    "public class Main {\n",
    "    public static void main(String[] args){\n",
    "        Object[][] Array3 = { // 2d Array of objects allows for having varying types in the same 2d array\n",
    "            {1, \"two\", 3.0},\n",
    "            {4, \"five\", 6.0},\n",
    "            {7, \"eight\", 9.0}\n",
    "        };\n",
    "\n",
    "        for (int i = 0; i < Array3.length; i++) { // Loop through the rows\n",
    "            for (int j = 0; j < Array3[i].length; j++) { // Loop through the columns\n",
    "                System.out.print(Array3[i][j] + \" \"); // Print out the element\n",
    "            }\n",
    "            System.out.println(); // Print a new line\n",
    "        }\n",
    "    }\n",
    "} \n",
    "\n",
    "Main.main(null)"
   ]
  },
  {
   "cell_type": "markdown",
   "metadata": {},
   "source": [
    "2) Creating an empty 2D array and then assigning values to individual elements as through accessing and changing each value via their corresponding row and column index: "
   ]
  },
  {
   "cell_type": "code",
   "execution_count": 11,
   "metadata": {
    "vscode": {
     "languageId": "java"
    }
   },
   "outputs": [
    {
     "name": "stdout",
     "output_type": "stream",
     "text": [
      "1 2 3 \n",
      "4 5 6 \n",
      "7 8 9 \n"
     ]
    }
   ],
   "source": [
    "public class Main {\n",
    "    public static void main(String[] args){\n",
    "        int[][] myArray = new int[3][3]; // Defines the size of the array, think of the first number as x and the second number as y, for rows and columns.\n",
    "        \n",
    "        myArray[0][0] = 1; //  Maps the desired value to a specific point in the array, think of this as an (x,y) coordinate.\n",
    "        myArray[0][1] = 2;\n",
    "        myArray[0][2] = 3;\n",
    "        myArray[1][0] = 4;\n",
    "        myArray[1][1] = 5;\n",
    "        myArray[1][2] = 6;\n",
    "        myArray[2][0] = 7;\n",
    "        myArray[2][1] = 8;\n",
    "        myArray[2][2] = 9;\n",
    "\n",
    "        for (int i = 0; i < myArray.length; i++) { // Loop through the rows\n",
    "            for (int j = 0; j < myArray[i].length; j++) { // Loop through the columns\n",
    "                System.out.print(myArray[i][j] + \" \"); // Print out the element\n",
    "            }\n",
    "            System.out.println(); // Print a new line\n",
    "        }\n",
    "    }\n",
    "}\n",
    "\n",
    "Main.main(null)"
   ]
  },
  {
   "cell_type": "markdown",
   "metadata": {},
   "source": [
    "3) Using a nested loop to manually populate each element:"
   ]
  },
  {
   "cell_type": "code",
   "execution_count": 12,
   "metadata": {
    "vscode": {
     "languageId": "java"
    }
   },
   "outputs": [
    {
     "name": "stdout",
     "output_type": "stream",
     "text": [
      "0 1 2 3 \n",
      "4 5 6 7 \n",
      "8 9 10 11 \n"
     ]
    }
   ],
   "source": [
    "public class Main {\n",
    "        public static void main(String[] args){\n",
    "        int rows = 3; // Define number of rows and columns here as variables\n",
    "        int columns = 4;\n",
    "        int[][] myArray = new int[rows][columns];  // Create an array based on the values of the aforementioned variables.\n",
    "        // Create a nested for loop that iterates based on the number of rows and columns.\n",
    "        for (int i = 0; i < rows; i++) { \n",
    "            for (int j = 0; j < columns; j++) {\n",
    "                // You can assign values to each element here\n",
    "                myArray[i][j] = i * columns + j;\n",
    "\n",
    "            }\n",
    "        }\n",
    "        // Print out the array\n",
    "        for (int i = 0; i < myArray.length; i++) { // Loop through the rows\n",
    "            for (int j = 0; j < myArray[i].length; j++) { // Loop through the columns\n",
    "                System.out.print(myArray[i][j] + \" \"); // Print out the element\n",
    "            }\n",
    "            System.out.println(); // Print a new line\n",
    "        }\n",
    "    }\n",
    "}\n",
    "\n",
    "Main.main(null)"
   ]
  },
  {
   "cell_type": "markdown",
   "metadata": {},
   "source": [
    "### Popcorn Hack: Create a 2D Array with random values"
   ]
  },
  {
   "cell_type": "code",
   "execution_count": null,
   "metadata": {
    "vscode": {
     "languageId": "java"
    }
   },
   "outputs": [],
   "source": []
  },
  {
   "cell_type": "markdown",
   "metadata": {},
   "source": [
    "## 2) Accessing and updating the values of a 2D array\n",
    "\n",
    "In order to access the value of a 2D array, you must use array indexing notation, which is as follows:\n",
    "\n",
    "```java\n",
    "// Say you have myArray:\n",
    "int[][] myArray = {\n",
    "    {1, 2, 3},\n",
    "    {4, 5, 6},\n",
    "    {7, 8, 9}\n",
    "};\n",
    "\n",
    "// To access the third number of the third column, use array indexing notation:\n",
    "int desiredValue = myArray[2][2]; // REMEMBER BASE 0!\n",
    "\n",
    "// And print the value:\n",
    "System.out.print(desiredValue);\n",
    "```\n",
    "Assign the \"coordinate point\" of the desired value as a variable, using the \"x\" value for row number and \"y\" value for column number."
   ]
  },
  {
   "cell_type": "code",
   "execution_count": 13,
   "metadata": {
    "vscode": {
     "languageId": "java"
    }
   },
   "outputs": [
    {
     "name": "stdout",
     "output_type": "stream",
     "text": [
      "9"
     ]
    }
   ],
   "source": [
    "// Executable Version:\n",
    "public class Main {\n",
    "    public static void main(String[] args) {\n",
    "        int[][] myArray = {\n",
    "            {1, 2, 3},\n",
    "            {4, 5, 6},\n",
    "            {7, 8, 9}\n",
    "        };\n",
    "\n",
    "        int desiredValue = myArray[2][2];\n",
    "\n",
    "        System.out.print(desiredValue);\n",
    "\n",
    "    }\n",
    "}\n",
    "\n",
    "Main.main(null)"
   ]
  },
  {
   "cell_type": "markdown",
   "metadata": {},
   "source": [
    "In order to update the value of a specific point in a 2D array, assign the desired value to a specific point in the array, denoted by array indexing notation:\n",
    "\n",
    "```java\n",
    "// Say you have myArray:\n",
    "int[][] myArray = {\n",
    "    {1, 2, 3},\n",
    "    {4, 5, 6},\n",
    "    {7, 8, 9}\n",
    "};\n",
    "\n",
    "// To change the third number of the third column, use array indexing notation:\n",
    "int desiredValue = 10; // Define what you want the new value to be.\n",
    "myArray[2][2] = desiredValue; // Use array indexing notation to insert the desired value at the specific desired point.\n",
    "\n",
    "// And print the updated value at the desired location:\n",
    "System.out.print(myArray[2][2]);\n",
    "```"
   ]
  },
  {
   "cell_type": "code",
   "execution_count": 14,
   "metadata": {
    "vscode": {
     "languageId": "java"
    }
   },
   "outputs": [
    {
     "name": "stdout",
     "output_type": "stream",
     "text": [
      "10"
     ]
    }
   ],
   "source": [
    "// Executable Version:\n",
    "public class Main {\n",
    "    public static void main(String[] args) {\n",
    "        int[][] myArray = {\n",
    "            {1, 2, 3},\n",
    "            {4, 5, 6},\n",
    "            {7, 8, 9}\n",
    "        };\n",
    "\n",
    "        int desiredValue = 10; \n",
    "        myArray[2][2] = desiredValue; \n",
    "\n",
    "        System.out.print(myArray[2][2]);\n",
    "\n",
    "    }\n",
    "}\n",
    "\n",
    "Main.main(null)"
   ]
  },
  {
   "cell_type": "markdown",
   "metadata": {},
   "source": [
    "### Popcorn Hack: Print this 2D Array and update the last value to be 12."
   ]
  },
  {
   "cell_type": "code",
   "execution_count": 15,
   "metadata": {
    "vscode": {
     "languageId": "java"
    }
   },
   "outputs": [],
   "source": [
    "// Executable Version:\n",
    "public class Main {\n",
    "    public static void main(String[] args) {\n",
    "        int[][] myArray = {\n",
    "            {1, 2, 3},\n",
    "            {4, 5, 6},\n",
    "            {7, 8, 9}\n",
    "        };\n",
    "    }\n",
    "}\n",
    "\n",
    "Main.main(null)"
   ]
  },
  {
   "cell_type": "markdown",
   "metadata": {},
   "source": [
    "## Traversing 2D Arrays \n",
    "- When we traverse a regular array we use a singular for loop to iterate through each element in the array. However, when we have 2D array we need to use nested for loops to iterate through each element in the array. Below is the difference between the two:\n",
    "\n",
    "```java\n",
    "// Regular array traversal\n",
    "for(int i = 0; i < myArray.length; i++){\n",
    "    System.out.println(myArray[i]);\n",
    "}\n",
    "\n",
    "// 2D array traversal\n",
    "for(int i = 0; i < myArray.length; i++){\n",
    "    for(int j = 0; j < myArray[i].length; j++){\n",
    "        System.out.println(myArray[i][j]);\n",
    "    }\n",
    "}\n",
    "```"
   ]
  },
  {
   "cell_type": "code",
   "execution_count": 16,
   "metadata": {
    "vscode": {
     "languageId": "java"
    }
   },
   "outputs": [
    {
     "name": "stdout",
     "output_type": "stream",
     "text": [
      "1D Array\n",
      "\n",
      "1 2 3 4 5 6 7 8 9 \n",
      "\n",
      "2D Array\n",
      "\n",
      "1 2 3 \n",
      "4 5 6 \n",
      "7 8 9 \n"
     ]
    }
   ],
   "source": [
    "public class Main {\n",
    "    public static void main(String[] args){\n",
    "        int[] myArray = {1, 2, 3, 4, 5, 6, 7, 8, 9}; // 1d array of integers\n",
    "        int[][] my2dArray = { // 2d array of integers\n",
    "            {1, 2, 3},\n",
    "            {4, 5, 6},\n",
    "            {7, 8, 9}\n",
    "        };\n",
    "        \n",
    "        System.out.println(\"1D Array\\n\"); // Print a new line\n",
    "\n",
    "        for (int i = 0; i < myArray.length; i++) { // Loop through the 1d array\n",
    "            System.out.print(myArray[i] + \" \"); // Print out the element\n",
    "        }\n",
    "\n",
    "        System.out.println(\"\\n\\n2D Array\\n\"); // Print a new line\n",
    "        \n",
    "\n",
    "        for (int i = 0; i < my2dArray.length; i++) { // First traversal condition\n",
    "            for (int j = 0; j < my2dArray[i].length; j++) { // Second traversal condition\n",
    "                System.out.print(my2dArray[i][j] + \" \"); // Print out the element\n",
    "            }\n",
    "            System.out.println(); // Print a new line\n",
    "        }\n",
    "    }\n",
    "}\n",
    "\n",
    "Main.main(null)"
   ]
  },
  {
   "cell_type": "markdown",
   "metadata": {},
   "source": [
    "### Popcorn Hack: Traverse the following array and only print the values divisible by 7"
   ]
  },
  {
   "cell_type": "code",
   "execution_count": 17,
   "metadata": {
    "vscode": {
     "languageId": "java"
    }
   },
   "outputs": [],
   "source": [
    "public class Main {\n",
    "    public static void main(String[] args) {\n",
    "        int[][] myArray = {\n",
    "            {1, 2, 11},\n",
    "            {14, 5, 21},\n",
    "            {25, 28, 70}\n",
    "        };\n",
    "    }\n",
    "}\n",
    "\n",
    "Main.main(null)"
   ]
  },
  {
   "cell_type": "markdown",
   "metadata": {},
   "source": [
    "## Row-Major Order vs Column-Major Order\n",
    "\n",
    "### Row-Major-Order: \n",
    "- The outer loop traverses the rows and the inner loop traverses the columns or the elements within the rows. Here is an example bellow of row-major order traversals:"
   ]
  },
  {
   "cell_type": "code",
   "execution_count": 18,
   "metadata": {
    "vscode": {
     "languageId": "java"
    }
   },
   "outputs": [
    {
     "name": "stdout",
     "output_type": "stream",
     "text": [
      "Row Major Order\n",
      "\n",
      "0 2 0 \n",
      "4 0 6 \n",
      "0 8 0 \n"
     ]
    }
   ],
   "source": [
    "public class rowMajorOrder {\n",
    "    public static void main(String[] args){\n",
    "        int[][] my2dArray = { // 2d array of integers\n",
    "            {1, 2, 3},\n",
    "            {4, 5, 6},\n",
    "            {7, 8, 9}\n",
    "        };\n",
    "        \n",
    "        System.out.println(\"Row Major Order\\n\"); // Print a new line\n",
    "\n",
    "        for (int i = 0; i < my2dArray.length; i++) { // First traversal traverses by rows condition\n",
    "\n",
    "            for (int j = 0; j < my2dArray[i].length; j++) { // Iterates through the columns\n",
    "                if (my2dArray[i][j] % 2 == 0) { // If the element is even\n",
    "                } else{\n",
    "                    my2dArray[i][j] = 0; // Otherwise set the element to 0\n",
    "                }\n",
    "                System.out.print(my2dArray[i][j] + \" \"); // Print out the element\n",
    "            }\n",
    "            System.out.println(); // Print a new line\n",
    "        }\n",
    "    }\n",
    "}\n",
    "\n",
    "rowMajorOrder.main(null)"
   ]
  },
  {
   "cell_type": "code",
   "execution_count": 19,
   "metadata": {
    "vscode": {
     "languageId": "java"
    }
   },
   "outputs": [
    {
     "name": "stdout",
     "output_type": "stream",
     "text": [
      "1 2 3 \n",
      "4 5 6 \n",
      "7 8 9 \n"
     ]
    }
   ],
   "source": [
    "// Variation that only applies to forward row-wise major traversal\n",
    "\n",
    "public class rowMajorTraversalAlt{\n",
    "    public static void rowMajorOrderAlt(int[][] array){\n",
    "        for (int[] row: array){\n",
    "            for (int element: row){\n",
    "                System.out.print(element + \" \");\n",
    "            }\n",
    "            System.out.println();\n",
    "        }\n",
    "    }\n",
    "}\n",
    "\n",
    "rowMajorTraversalAlt.rowMajorOrderAlt(new int[][]{\n",
    "    {1, 2, 3},\n",
    "    {4, 5, 6},\n",
    "    {7, 8, 9}\n",
    "});"
   ]
  },
  {
   "cell_type": "markdown",
   "metadata": {},
   "source": [
    "### Column-Major-Order: \n",
    "- The outer loop will traverse through the columns and the inner loop will traverses through each element in the columns or the rows. Here is an example bellow of column-major order traversals: "
   ]
  },
  {
   "cell_type": "code",
   "execution_count": 20,
   "metadata": {
    "vscode": {
     "languageId": "java"
    }
   },
   "outputs": [
    {
     "name": "stdout",
     "output_type": "stream",
     "text": [
      "Column Wise Traversal\n",
      "\n",
      "0 2 0 \n",
      "4 0 6 \n",
      "0 8 0 \n"
     ]
    }
   ],
   "source": [
    "public class columnWiseTraversal{\n",
    "    public static void main(String[] args){\n",
    "        int[][] my2dArray = { // 2d array of integers\n",
    "            {1, 2, 3},\n",
    "            {4, 5, 6},\n",
    "            {7, 8, 9}\n",
    "        };\n",
    "        \n",
    "        System.out.println(\"Column Wise Traversal\\n\"); // Print a new line\n",
    "\n",
    "        for (int j = 0; j < my2dArray[0].length; j++) { // First traversal traverses by columns condition\n",
    "\n",
    "            for (int i = 0; i < my2dArray.length; i++) { // Iterates through the rows\n",
    "                if (my2dArray[j][i] % 2 == 0) { // If the element is even\n",
    "                } else{\n",
    "                    my2dArray[j][i] = 0; // Otherwise set the element to 0\n",
    "                }\n",
    "                System.out.print(my2dArray[j][i] + \" \"); // Print out the element\n",
    "            }\n",
    "            System.out.println(); // Print a new line\n",
    "        }\n",
    "    }\n",
    "}\n",
    "\n",
    "columnWiseTraversal.main(null)\n",
    "\n",
    "// Both row and column wise traversals in our examples do the same thing, but in different orders. However for certain functions one may be easier to use than the other.  \n"
   ]
  },
  {
   "cell_type": "markdown",
   "metadata": {},
   "source": [
    "# Enhanced For-Each Loop for 2D Arrays \n",
    "Since 2D arrays are really arrays of arrays you can also use a nested enhanced for-each loop to loop through all elements in an array. We loop through each of the inner arrays and loop through all the values in each inner array. Notice the type of the outer loop array variable – it is an array that will hold each row, String[] in the example below for a 2D String array. The type of the variables in the for-each loops must match the type of the array. For-each loops are much simpler since you don’t have to use the indices and the []’s, but you can only use them if you are not going to change the values in an array of primitive types since the variable val below will not change the original array.\n",
    "\n"
   ]
  },
  {
   "cell_type": "code",
   "execution_count": null,
   "metadata": {
    "vscode": {
     "languageId": "java"
    }
   },
   "outputs": [],
   "source": [
    "String[][] array;\n",
    "// Nested For-each loops that traverse a 2D String array\n",
    "for (String[] innerArray : array)\n",
    "{\n",
    "   for (String val : innerArray)\n",
    "   {\n",
    "       System.out.println(val);\n",
    "   }\n",
    "}"
   ]
  },
  {
   "cell_type": "code",
   "execution_count": 2,
   "metadata": {
    "vscode": {
     "languageId": "java"
    }
   },
   "outputs": [
    {
     "name": "stdout",
     "output_type": "stream",
     "text": [
      "69.16666666666667\n"
     ]
    }
   ],
   "source": [
    "public class Average\n",
    "{\n",
    "\n",
    "    public static double getAvg(int[][] a)\n",
    "    {\n",
    "        double total = 0;\n",
    "        for (int[] innerArray : a)\n",
    "        {\n",
    "            for (int val : innerArray)\n",
    "            {\n",
    "                total = total + val;\n",
    "            }\n",
    "        }\n",
    "        return total / (a.length * a[0].length);\n",
    "    }\n",
    "\n",
    "    public static void main(String[] args)\n",
    "    {\n",
    "        int[][] theArray = { {80, 90, 70}, {20, 80, 75}};\n",
    "        System.out.println(getAvg(theArray));\n",
    "    }\n",
    "}\n",
    "\n",
    "Average.main(null);"
   ]
  },
  {
   "cell_type": "markdown",
   "metadata": {},
   "source": [
    "# Practice 2D Arrays"
   ]
  },
  {
   "cell_type": "markdown",
   "metadata": {},
   "source": [
    "### Problem 1:\n",
    "Replace the “ADD CODE HERE” below with the code to declare and create a 3 by 3 two-dimensional int array named table. The finished code will print the values 0 to 8."
   ]
  },
  {
   "cell_type": "code",
   "execution_count": null,
   "metadata": {
    "vscode": {
     "languageId": "java"
    }
   },
   "outputs": [],
   "source": [
    "public class Problem1\n",
    "{\n",
    "\n",
    "    public static void main(String[] args)\n",
    "    {\n",
    "        // ADD CODE HERE //\n",
    "\n",
    "        // Should print the values in table\n",
    "        int count = 0;\n",
    "        for (int row = 0; row < table.length; row++)\n",
    "        {\n",
    "            for (int col = 0; col < table.length; col++)\n",
    "            {\n",
    "                table[row][col] = count;\n",
    "                count++;\n",
    "                System.out.print(table[row][col] + \" \");\n",
    "            }\n",
    "        }\n",
    "    }\n",
    "}\n",
    "Problem1.main(null);\n"
   ]
  },
  {
   "cell_type": "markdown",
   "metadata": {},
   "source": [
    "### Problem 2:\n",
    "Print the values 47, 51, and 20 by accessing them in the the given two-dimensional array.\n"
   ]
  },
  {
   "cell_type": "code",
   "execution_count": null,
   "metadata": {
    "vscode": {
     "languageId": "java"
    }
   },
   "outputs": [],
   "source": [
    "public class Problem2\n",
    "{\n",
    "    public static void main(String[] args)\n",
    "    {\n",
    "        int[][] arr = { {47,3,12},{51,74,20} };\n",
    "\n",
    "        // ADD CODE HERE //\n",
    "\n",
    "    }\n",
    "}\n",
    "Problem2.main(null);"
   ]
  }
 ],
 "metadata": {
  "kernelspec": {
   "display_name": "Java",
   "language": "java",
   "name": "java"
  },
  "language_info": {
   "codemirror_mode": "java",
   "file_extension": ".jshell",
   "mimetype": "text/x-java-source",
   "name": "Java",
   "pygments_lexer": "java",
   "version": "11.0.17+8-post-Ubuntu-1ubuntu220.04"
  },
  "orig_nbformat": 4
 },
 "nbformat": 4,
 "nbformat_minor": 2
}
