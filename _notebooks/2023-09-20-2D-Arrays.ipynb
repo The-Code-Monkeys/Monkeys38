{
 "cells": [
  {
   "cell_type": "markdown",
   "metadata": {},
   "source": [
    "---\n",
    "layout: post\n",
    "title: 2D Arrays\n",
    "description: Lesson on 2D Arrays\n",
    "courses: { csa: {week: 1} }\n",
    "type: lessons\n",
    "---"
   ]
  },
  {
   "cell_type": "markdown",
   "metadata": {},
   "source": [
    "# APCSA Unit 3 College Board Learning Objectives and Standards\n",
    "\n",
    "## Learning Objectives\n",
    "\n",
    "The objective of today's lesson is to...\n",
    "\n",
    "- Learn about 2D arrays, their use cases, and how to create them.\n",
    "\n",
    "## Essential Knowledge\n",
    "\n",
    "College Board wants you to know...\n",
    "\n",
    "- How to declare/initialize 2D arrays.\n",
    "- How to determine their size.\n",
    "- How to access and update the values of a 2D array.\n",
    "- How to traverse/access elements of a 2D array using nested iteration statements. \n",
    "- How nested iteration statements can be used to traverse 2D arrays in “row-major order” vs “column-major order.”\n",
    "- How to create algorithms that require the use of 2D array traversals."
   ]
  },
  {
   "cell_type": "markdown",
   "metadata": {},
   "source": [
    "## Warm Up\n",
    "\n",
    "Answer the following questions as a group or individually. Write down your answers in your hacks notebook.\n",
    "\n",
    "- What are 2D arrays?\n",
    "- How are 2D arrays organized?\n",
    "- What are some real-world examples of 2D arrays?\n"
   ]
  },
  {
   "cell_type": "markdown",
   "metadata": {},
   "source": [
    "## The Basics/Recap\n",
    "\n",
    "2D arrays, and higher dimension arrays overall, can be thought of as just an array that's made up of other arrays. One way of looking at 2D arrays is by thinking of them as a chess board. They have rows and columns, and every element is identified via row or column number.\n",
    "\n",
    "Below is an illustration of a 2D array:\n",
    "![2D Array Image](/images/2dArray.png)\n",
    "\n"
   ]
  },
  {
   "cell_type": "markdown",
   "metadata": {},
   "source": [
    "## 1) How to declare/initialize 2D arrays\n",
    "\n",
    "Initializing 2D arrays can be done in multiple different ways. The most common include:"
   ]
  },
  {
   "cell_type": "markdown",
   "metadata": {},
   "source": [
    "1) Initializing and populating the array in one go:"
   ]
  },
  {
   "cell_type": "code",
   "execution_count": 1,
   "metadata": {},
   "outputs": [],
   "source": [
    "int[][] Array1 = {\n",
    "    {1, 2, 3},\n",
    "    {4, 5, 6},\n",
    "    {7, 8, 9}\n",
    "};"
   ]
  },
  {
   "cell_type": "markdown",
   "metadata": {},
   "source": [
    "2) Creating an empty 2D array and then assigning values to individual elements: "
   ]
  },
  {
   "cell_type": "code",
   "execution_count": 7,
   "metadata": {},
   "outputs": [
    {
     "data": {
      "text/plain": [
       "9"
      ]
     },
     "execution_count": 7,
     "metadata": {},
     "output_type": "execute_result"
    }
   ],
   "source": [
    "int[][] Array2 = new int[3][3]; // Defines the size of the array, think of the first number as x and the second number as y, for rows and columns.\n",
    "myArray[0][0] = 1; //  Maps the desired value to a specific point in the array, think of this as an (x,y) coordinate.\n",
    "myArray[0][1] = 2;\n",
    "myArray[0][2] = 3;\n",
    "myArray[1][0] = 4;\n",
    "myArray[1][1] = 5;\n",
    "myArray[1][2] = 6;\n",
    "myArray[2][0] = 7;\n",
    "myArray[2][1] = 8;\n",
    "myArray[2][2] = 9;\n"
   ]
  },
  {
   "cell_type": "markdown",
   "metadata": {},
   "source": [
    "3) Using a nested loop to manually populate each element:"
   ]
  },
  {
   "cell_type": "code",
   "execution_count": null,
   "metadata": {},
   "outputs": [],
   "source": [
    "int rows = 3; // Define number of rows and columns here as variables\n",
    "int columns = 4;\n",
    "int[][] myArray = new int[rows][columns];  // Create an array based on the values of the aforementioned variables.\n",
    "\n",
    "// Create a nested for loop that iterates based on the number of rows and columns.\n",
    "for (int i = 0; i < rows; i++) { \n",
    "    for (int j = 0; j < columns; j++) {\n",
    "        // You can assign values to each element here\n",
    "        myArray[i][j] = i * columns + j;\n",
    "    }\n",
    "}"
   ]
  },
  {
   "cell_type": "markdown",
   "metadata": {},
   "source": [
    "## 2) Accessing and updating the values of a 2D array\n",
    "\n",
    "In order to access the value of a 2D array, you must use array indexing notation, which is as follows:\n",
    "\n",
    "```java\n",
    "// Say you have myArray:\n",
    "int[][] myArray = {\n",
    "    {1, 2, 3},\n",
    "    {4, 5, 6},\n",
    "    {7, 8, 9}\n",
    "};\n",
    "\n",
    "// To access the third number of the third column, use array indexing notation:\n",
    "int desiredValue = myArray[2][2]; // REMEMBER BASE 0!\n",
    "\n",
    "// And print the value:\n",
    "System.out.print(desiredValue);\n",
    "```\n",
    "Assign the \"coordinate point\" of the desired value as a variable, using the \"x\" value for row number and \"y\" value for column number."
   ]
  },
  {
   "cell_type": "code",
   "execution_count": 5,
   "metadata": {},
   "outputs": [
    {
     "name": "stdout",
     "output_type": "stream",
     "text": [
      "9"
     ]
    }
   ],
   "source": [
    "// Executable Version:\n",
    "\n",
    "int[][] myArray = {\n",
    "    {1, 2, 3},\n",
    "    {4, 5, 6},\n",
    "    {7, 8, 9}\n",
    "};\n",
    "\n",
    "int desiredValue = myArray[2][2];\n",
    "\n",
    "System.out.print(desiredValue);"
   ]
  },
  {
   "cell_type": "markdown",
   "metadata": {},
   "source": [
    "In order to update the value of a specific point in a 2D array, assign the desired value to a specific point in the array, denoted by array indexing notation:\n",
    "\n",
    "```java\n",
    "// Say you have myArray:\n",
    "int[][] myArray = {\n",
    "    {1, 2, 3},\n",
    "    {4, 5, 6},\n",
    "    {7, 8, 9}\n",
    "};\n",
    "\n",
    "// To change the third number of the third column, use array indexing notation:\n",
    "int desiredValue = 10; // Define what you want the new value to be.\n",
    "myArray[2][2] = desiredValue; // Use array indexing notation to insert the desired value at the specific desired point.\n",
    "\n",
    "// And print the updated value at the desired location:\n",
    "System.out.print(myArray[2][2]);\n",
    "```"
   ]
  },
  {
   "cell_type": "code",
   "execution_count": null,
   "metadata": {},
   "outputs": [
    {
     "name": "stdout",
     "output_type": "stream",
     "text": [
      "10"
     ]
    }
   ],
   "source": [
    "// Executable Version:\n",
    "int[][] myArray = {\n",
    "    {1, 2, 3},\n",
    "    {4, 5, 6},\n",
    "    {7, 8, 9}\n",
    "};\n",
    "\n",
    "int desiredValue = 10; \n",
    "myArray[2][2] = desiredValue; \n",
    "\n",
    "System.out.print(myArray[2][2]);"
   ]
  }
 ],
 "metadata": {
  "kernelspec": {
   "display_name": "Java",
   "language": "java",
   "name": "java"
  },
  "language_info": {
   "codemirror_mode": "java",
   "file_extension": ".jshell",
   "mimetype": "text/x-java-source",
   "name": "java",
   "pygments_lexer": "java",
   "version": "17.0.8.1+1-Ubuntu-0ubuntu120.04"
  },
  "orig_nbformat": 4
 },
 "nbformat": 4,
 "nbformat_minor": 2
}
