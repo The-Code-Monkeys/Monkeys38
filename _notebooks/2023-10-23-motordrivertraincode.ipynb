{
 "cells": [
  {
   "cell_type": "code",
   "execution_count": null,
   "metadata": {
    "vscode": {
     "languageId": "java"
    }
   },
   "outputs": [],
   "source": [
    "import com.pi4j.io.gpio.*;\n",
    "import com.corundumstudio.socketio.*;\n",
    "\n",
    "public class RobotControl {\n",
    "\n",
    "    // Define motor pins\n",
    "    static GpioPinDigitalOutput motor1 = GpioFactory.getInstance().provisionDigitalOutputPin(RaspiPin.GPIO_01, PinState.LOW);\n",
    "    static GpioPinDigitalOutput motor2 = GpioFactory.getInstance().provisionDigitalOutputPin(RaspiPin.GPIO_02, PinState.LOW);\n",
    "\n",
    "    public static void main(String[] args) {\n",
    "        Configuration config = new Configuration();\n",
    "        config.setHostname(\"your_server_address\");\n",
    "        config.setPort(9092);\n",
    "\n",
    "        final SocketIOServer server = new SocketIOServer(config);\n",
    "\n",
    "        server.addConnectListener(new ConnectListener() {\n",
    "            @Override\n",
    "            public void onConnect(SocketIOClient client) {\n",
    "                System.out.println(\"Connected to client\");\n",
    "            }\n",
    "        });\n",
    "\n",
    "        server.addDisconnectListener(new DisconnectListener() {\n",
    "            @Override\n",
    "            public void onDisconnect(SocketIOClient client) {\n",
    "                System.out.println(\"Disconnected from client\");\n",
    "                motor1.low();\n",
    "                motor2.low(); // Stop motors on disconnect\n",
    "            }\n",
    "        });\n",
    "\n",
    "        server.addEventListener(\"control\", String.class, new DataListener<String>() {\n",
    "            @Override\n",
    "            public void onData(SocketIOClient client, String command, AckRequest ackRequest) {\n",
    "                switch (command) {\n",
    "                    case \"forward\":\n",
    "                        motor1.high();\n",
    "                        motor2.high();\n",
    "                        break;\n",
    "                    case \"backward\":\n",
    "                        motor1.low();\n",
    "                        motor2.low();\n",
    "                        break;\n",
    "                    case \"left\":\n",
    "                        motor1.low();\n",
    "                        motor2.high();\n",
    "                        break;\n",
    "                    case \"right\":\n",
    "                        motor1.high();\n",
    "                        motor2.low();\n",
    "                        break;\n",
    "                    case \"stop\":\n",
    "                        motor1.low();\n",
    "                        motor2.low();\n",
    "                        break;\n",
    "                    default:\n",
    "                        System.out.println(\"Invalid command\");\n",
    "                }\n",
    "            }\n",
    "        });\n",
    "\n",
    "        server.start();\n",
    "\n",
    "        try {\n",
    "            Thread.sleep(Integer.MAX_VALUE);\n",
    "        } catch (InterruptedException e) {\n",
    "            e.printStackTrace();\n",
    "        }\n",
    "\n",
    "        server.stop();\n",
    "        GpioFactory.getInstance().shutdown();\n",
    "    }\n",
    "}\n",
    "\n",
    "\n",
    "\n",
    "\n"
   ]
  },
  {
   "cell_type": "markdown",
   "metadata": {},
   "source": [
    "Explanation of the code:\n",
    "We're using the Pi4J library to control GPIO pins on the Raspberry Pi. The motor1 and motor2 pins are defined, and we use them to control the motors based on the commands received through Socket.IO.\n",
    "Replace \"your_server_address\" with the actual address of your Socket.IO server. Also, make sure you have the Pi4J library properly installed on your Raspberry Pi.\n",
    "\n"
   ]
  },
  {
   "cell_type": "code",
   "execution_count": null,
   "metadata": {
    "vscode": {
     "languageId": "java"
    }
   },
   "outputs": [],
   "source": []
  }
 ],
 "metadata": {
  "kernelspec": {
   "display_name": "Java",
   "language": "java",
   "name": "java"
  },
  "language_info": {
   "codemirror_mode": "java",
   "file_extension": ".jshell",
   "mimetype": "text/x-java-source",
   "name": "Java",
   "pygments_lexer": "java",
   "version": "11.0.17+8-post-Ubuntu-1ubuntu220.04"
  }
 },
 "nbformat": 4,
 "nbformat_minor": 2
}
