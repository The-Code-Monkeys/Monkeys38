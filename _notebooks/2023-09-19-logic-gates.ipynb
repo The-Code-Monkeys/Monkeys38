{
 "cells": [
  {
   "cell_type": "markdown",
   "metadata": {},
   "source": [
    "---\n",
    "layout: post\n",
    "title: Logic Gates\n",
    "description: Lesson on boolean expressions and if statements!\n",
    "courses: { csa: {week: 1} }\n",
    "type: lessons\n",
    "---"
   ]
  },
  {
   "cell_type": "markdown",
   "metadata": {},
   "source": []
  }
 ],
 "metadata": {
  "language_info": {
   "name": "python"
  },
  "orig_nbformat": 4
 },
 "nbformat": 4,
 "nbformat_minor": 2
}
